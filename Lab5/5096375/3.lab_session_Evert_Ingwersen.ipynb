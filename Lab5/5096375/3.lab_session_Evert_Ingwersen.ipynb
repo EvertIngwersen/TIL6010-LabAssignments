{
 "cells": [
  {
   "cell_type": "markdown",
   "id": "ba7a5dd8",
   "metadata": {},
   "source": [
    "Import relevant packages here."
   ]
  },
  {
   "cell_type": "code",
   "execution_count": 2,
   "id": "6a8838bb",
   "metadata": {},
   "outputs": [],
   "source": [
    "import matplotlib.pyplot as plt\n",
    "import numpy as np\n",
    "import pandas as pd\n",
    "import math"
   ]
  },
  {
   "cell_type": "markdown",
   "id": "1725519c",
   "metadata": {},
   "source": [
    "Load the data and verify it is loaded correctly.\n",
    "<ul>\n",
    "    <li>Print it (head, tail, or specific rows, choose a sensible number of rows).</li>\n",
    "    <li>Compare it to the source file.</li>\n",
    "<ul>"
   ]
  },
  {
   "cell_type": "code",
   "execution_count": 3,
   "id": "aa4d5e37",
   "metadata": {},
   "outputs": [
    {
     "name": "stdout",
     "output_type": "stream",
     "text": [
      "Enoding is: ascii\n",
      "          dv        s         a\n",
      "0  -0.743240  53.5427  1.242570\n",
      "1  -0.557230  53.6120  1.777920\n",
      "2  -0.454769  53.6541  0.544107\n",
      "3  -0.525396  53.7030 -0.294755\n",
      "4  -0.601285  53.7592 -0.290961\n",
      "..       ...      ...       ...\n",
      "95 -2.215650  34.6307  1.300200\n",
      "96 -2.134380  34.8587  1.463160\n",
      "97 -1.841090  35.0576  1.629580\n",
      "98 -1.547000  35.2270  1.789670\n",
      "99 -1.282250  35.3670  1.636860\n",
      "\n",
      "[100 rows x 3 columns]\n",
      "Length of data is 73908\n"
     ]
    }
   ],
   "source": [
    "file = 'cf_data.csv'\n",
    "\n",
    "import chardet\n",
    "with open(file, 'rb') as rawdata:\n",
    "    result = chardet.detect(rawdata.read(100000))\n",
    "\n",
    "print(\"Enoding is:\",result['encoding'])\n",
    "\n",
    "data = pd.read_csv(file, encoding= result['encoding'])\n",
    "\n",
    "#Compare\n",
    "\n",
    "first_hundred_rows = data.iloc[0:100]\n",
    "print(first_hundred_rows)\n",
    "print(\"Length of data is\", max(data.count()))"
   ]
  },
  {
   "cell_type": "markdown",
   "id": "0f6d5753",
   "metadata": {},
   "source": [
    "In the ensuing, you will use <code>numpy</code>.\n",
    "\n",
    "Let's create a grid for the values to plot. But first create <b>two arrays named <code>dv</code> and <code>s</code></b> using <code>numpy.linspace</code> that hold the grid values at the relevant indices in their respective dimension of the grid.\n",
    "\n",
    "Create a <b>grid named <code>a</code></b> with zeros using <code>numpy.zeros</code> in to which calculated acceleration values can be stored.<br>\n",
    "<br>\n",
    "Let the grid span:<br>\n",
    "<ul>\n",
    "    <li>Speed difference <code>dv</code> [m/s]\n",
    "        <ul>\n",
    "            <li>From -10 till 10</li>\n",
    "            <li>With 41 evenly spaced values</li>\n",
    "        </ul>\n",
    "    </li>\n",
    "    <li>Headway <code>s</code> [m]\n",
    "        <ul>\n",
    "            <li>From 0 till 200</li>\n",
    "            <li>With 21 evenly spaced values</li>\n",
    "        </ul>\n",
    "    </li>\n",
    "</ul>"
   ]
  },
  {
   "cell_type": "code",
   "execution_count": 4,
   "id": "2d52276f",
   "metadata": {},
   "outputs": [],
   "source": [
    "dv = np.linspace(-10,10,41)\n",
    "s = np.linspace(0,200,21)\n",
    "a = np.zeros(len(dv)*len(s))"
   ]
  },
  {
   "cell_type": "markdown",
   "id": "fedab6cf",
   "metadata": {},
   "source": [
    "Create from the imported data 3 separate <code>numpy</code> arrays for each column <code>dv</code>, <code>s</code> and <code>a</code>. (We do this for speed reasons later.)\n",
    "<ul>\n",
    "    <li>Make sure to name them differently from the arrays that belong to the grid as above.</li>\n",
    "    <li>You can access the data of each column in a <code>DataFrame</code> using <code>data.xxx</code> where <code>xxx</code> is the column name (not as a string).</li>\n",
    "    <li>Use the method <code>to_numpy()</code> to convert a column to a <code>numpy</code> array.</li>\n",
    "</ul>"
   ]
  },
  {
   "cell_type": "code",
   "execution_count": 5,
   "id": "1058fc26",
   "metadata": {},
   "outputs": [],
   "source": [
    "DV = ((data.dv).to_numpy())[0:1000] #Only doing 1000 items because otherwise it will take too long...\n",
    "S = ((data.s).to_numpy())[0:1000] \n",
    "A = ((data.a).to_numpy())[0:1000] "
   ]
  },
  {
   "cell_type": "markdown",
   "id": "bbf1585a",
   "metadata": {},
   "source": [
    "Create an algorithm that calculates all the acceleration values and stores them in the grid. The algorithm is described visually in the last part of the lecture. At each grid point, it calculates a weighted mean of all measurements. The weights are given by an exponential function, based on the 'distance' between the grid point, and the measurement values of <code>dv</code> and <code>s</code>. To get you started, how many <code>for</code>-loops do you need?<br>\n",
    "<br>\n",
    "For this you will need <code>math</code>.<br>\n",
    "Use an <i>upsilon</i> of 1.5m/s and a <i>sigma</i> of 30m.<br>\n",
    "<br>\n",
    "<b>Warning:</b> This calculation may take some time. So:\n",
    "<ul>\n",
    "    <li>Print a line for each iteration of the outer-most <code>for</code>-loop that shows you the progress.</li>\n",
    "    <li>Test you code by running it only on the first 50 measurements of the data.</li>\n",
    "</ul>"
   ]
  },
  {
   "cell_type": "code",
   "execution_count": 6,
   "id": "676dd33f",
   "metadata": {},
   "outputs": [
    {
     "name": "stdout",
     "output_type": "stream",
     "text": [
      "0.0 %\n",
      "4.761904761904762 %\n",
      "9.523809523809524 %\n",
      "14.285714285714285 %\n",
      "19.047619047619047 %\n",
      "23.809523809523807 %\n",
      "28.57142857142857 %\n",
      "33.33333333333333 %\n",
      "38.095238095238095 %\n",
      "42.857142857142854 %\n",
      "47.61904761904761 %\n",
      "52.38095238095239 %\n",
      "57.14285714285714 %\n",
      "61.904761904761905 %\n",
      "66.66666666666666 %\n",
      "71.42857142857143 %\n",
      "76.19047619047619 %\n",
      "80.95238095238095 %\n",
      "85.71428571428571 %\n",
      "90.47619047619048 %\n",
      "95.23809523809523 %\n"
     ]
    }
   ],
   "source": [
    "υ = 1.5\n",
    "σ = 30\n",
    "ω = np.zeros(len(A))\n",
    "ω_dv = np.zeros(len(A))\n",
    "ω_s = np.zeros(len(A))\n",
    "ω = np.zeros((len(A)))\n",
    "ω_A = np.zeros(len(A))\n",
    "A_weighted = np.zeros((len(dv), len(s)))\n",
    "\n",
    "for k in range(len(s)):    \n",
    "    for j in range(len(dv)):    \n",
    "        for i in range(len(A)):\n",
    "            ω_dv[i] = math.exp(-(abs(DV[i]-dv[j]))/υ)\n",
    "            ω_s[i] = math.exp(-(abs(S[i])-s[k])/σ)\n",
    "            ω[i] = ω_dv[i]*ω_s[i]\n",
    "            ω_A[i] = ω[i]*A[i]\n",
    "            A_weighted[j,k] = sum(ω_A) #/sum(ω) \n",
    "    print((k/len(s)*100), \"%\")\n",
    "\n",
    "a = A_weighted / sum(ω)\n"
   ]
  },
  {
   "cell_type": "markdown",
   "id": "52cbac3a",
   "metadata": {},
   "source": [
    "The following code will plot the data for you. Does it make sense when considering:\n",
    "<ul>\n",
    "    <li>Negative (slower than leader) and positive (faster than leader) speed differences?</li>\n",
    "    <li>Small and large headways?</li>\n",
    "</ul>"
   ]
  },
  {
   "cell_type": "code",
   "execution_count": 7,
   "id": "168949b8",
   "metadata": {},
   "outputs": [
    {
     "data": {
      "image/png": "[encoded data removed]",
      "text/plain": [
       "<Figure size 1000x700 with 2 Axes>"
      ]
     },
     "metadata": {},
     "output_type": "display_data"
    }
   ],
   "source": [
    "X, Y = np.meshgrid(dv, s)\n",
    "axs = plt.axes()\n",
    "p = axs.pcolor(X, Y, np.swapaxes(a, 0, 1), shading='nearest')\n",
    "axs.set_title('Acceleration [m/s/s]')\n",
    "axs.set_xlabel('Speed difference [m/s]')\n",
    "axs.set_ylabel('Headway [m]')\n",
    "axs.figure.colorbar(p);\n",
    "axs.figure.set_size_inches(10, 7)"
   ]
  },
  {
   "cell_type": "code",
   "execution_count": null,
   "id": "38d1b9e8-b4b1-4506-9675-205b022a7c1e",
   "metadata": {},
   "outputs": [],
   "source": []
  }
 ],
 "metadata": {
  "kernelspec": {
   "display_name": "Python 3 (ipykernel)",
   "language": "python",
   "name": "python3"
  },
  "language_info": {
   "codemirror_mode": {
    "name": "ipython",
    "version": 3
   },
   "file_extension": ".py",
   "mimetype": "text/x-python",
   "name": "python",
   "nbconvert_exporter": "python",
   "pygments_lexer": "ipython3",
   "version": "3.12.5"
  }
 },
 "nbformat": 4,
 "nbformat_minor": 5
}
